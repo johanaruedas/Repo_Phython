{
  "nbformat": 4,
  "nbformat_minor": 0,
  "metadata": {
    "colab": {
      "name": "Copy of Diccionarios.ipynb",
      "provenance": [],
      "authorship_tag": "ABX9TyNt+Z3YfSp4vvAyC3boA0Lp",
      "include_colab_link": true
    },
    "kernelspec": {
      "name": "python3",
      "display_name": "Python 3"
    }
  },
  "cells": [
    {
      "cell_type": "markdown",
      "metadata": {
        "id": "view-in-github",
        "colab_type": "text"
      },
      "source": [
        "<a href=\"https://colab.research.google.com/github/johanaruedas/Repo_Phython/blob/main/Copy_of_Diccionarios.ipynb\" target=\"_parent\"><img src=\"https://colab.research.google.com/assets/colab-badge.svg\" alt=\"Open In Colab\"/></a>"
      ]
    },
    {
      "cell_type": "code",
      "metadata": {
        "colab": {
          "base_uri": "https://localhost:8080/"
        },
        "id": "cM6qxS2UAaCl",
        "outputId": "881d9ca5-abf6-4a62-9e71-2ce38266d95a"
      },
      "source": [
        "#Añadir elementos a listas \r\n",
        "A=[89,5,14,11]\r\n",
        "A\r\n",
        "A[2]=15\r\n",
        "A.append(12)\r\n",
        "print(A)\r\n",
        "\r\n",
        "A.append([12,11,10,11])\r\n",
        "print(A)\r\n",
        " \r\n",
        "A.append([14,1,1,1])\r\n",
        "print(A)"
      ],
      "execution_count": null,
      "outputs": [
        {
          "output_type": "stream",
          "text": [
            "[89, 5, 15, 11, 12]\n",
            "[89, 5, 15, 11, 12, [12, 11, 10, 11]]\n",
            "[89, 5, 15, 11, 12, [12, 11, 10, 11], [14, 1, 1, 1]]\n"
          ],
          "name": "stdout"
        }
      ]
    },
    {
      "cell_type": "code",
      "metadata": {
        "colab": {
          "base_uri": "https://localhost:8080/"
        },
        "id": "O_yoNGcZOv64",
        "outputId": "da139e5e-4965-40aa-9ca9-83e0f013820a"
      },
      "source": [
        "#Operaciones a listas \r\n",
        "C=[1,2,3,4]\r\n",
        "suma=sum(C)\r\n",
        "suma\r\n",
        "import statistics\r\n",
        "promedio= statistics.mean(C)\r\n",
        "promedio"
      ],
      "execution_count": null,
      "outputs": [
        {
          "output_type": "execute_result",
          "data": {
            "text/plain": [
              "2.5"
            ]
          },
          "metadata": {
            "tags": []
          },
          "execution_count": 11
        }
      ]
    },
    {
      "cell_type": "code",
      "metadata": {
        "id": "m9wEzxZVPcf1"
      },
      "source": [
        "#listas con strings\r\n",
        "strings=[\"abc\",\"def\",\"hij\",\"klm\"]\r\n"
      ],
      "execution_count": null,
      "outputs": []
    },
    {
      "cell_type": "markdown",
      "metadata": {
        "id": "i25r1-7OW3WL"
      },
      "source": [
        "#Diccionarios \r\n",
        "\r\n",
        "\r\n",
        "```\r\n",
        "# This is formatted as code\r\n",
        "```\r\n",
        "\r\n"
      ]
    },
    {
      "cell_type": "code",
      "metadata": {
        "colab": {
          "base_uri": "https://localhost:8080/"
        },
        "id": "-x1KNxZMXHfz",
        "outputId": "c08a2a10-53b9-4447-8e92-f28c0d161316"
      },
      "source": [
        "Datos_alumno= { 'Nombre': 'Johana', \r\n",
        "               'Apellido': 'Ruedas',\r\n",
        "               'Matricula': '2020660904',\r\n",
        "               'Carrera': 'Biotecnologia', \r\n",
        "               'Turno': 'Matutino'\r\n",
        "}\r\n",
        "print(Datos_alumno['Matricula'])\r\n",
        "Datos_alumno.update({'Materias':['Programacion', 'Fisiologia', 'Ecuaciones Diferenciales']})\r\n",
        "print(Datos_alumno['Materias'])"
      ],
      "execution_count": null,
      "outputs": [
        {
          "output_type": "stream",
          "text": [
            "2020660904\n",
            "['Programacion', 'Fisiologia', 'Ecuaciones Diferenciales']\n"
          ],
          "name": "stdout"
        }
      ]
    },
    {
      "cell_type": "markdown",
      "metadata": {
        "id": "w5pkwDHhgNxb"
      },
      "source": [
        "#Tarea diccionarios "
      ]
    },
    {
      "cell_type": "code",
      "metadata": {
        "colab": {
          "base_uri": "https://localhost:8080/"
        },
        "id": "3yQjhXxrik07",
        "outputId": "36a0938f-b1d0-4cc8-8f09-fc5c74bc6ec3"
      },
      "source": [
        "Placa1=input('Placa 1: ')\r\n",
        "Modelo1=input('Modelo 1: ')\r\n",
        "Año1=input('Año 1: ')\r\n",
        "print('')\r\n",
        "Placa2=input('Placa 2: ')\r\n",
        "Modelo2=input('Modelo 2: ')\r\n",
        "Año2=input('Año 2: ')\r\n",
        "print('')\r\n",
        "Placa3=input('Placa 3: ')\r\n",
        "Modelo3=input('Modelo 3: ')\r\n",
        "Año3=input('Año 3: ')\r\n",
        "print('')\r\n",
        "\r\n",
        "Existencia_coches= [{ \r\n",
        "    'Placas': Placa1 ,\r\n",
        "    'Modelo' : Modelo1 ,\r\n",
        "    'Año': Año1 ,\r\n",
        "},\r\n",
        "{ \r\n",
        "    'Placas': Placa2 ,\r\n",
        "    'Modelo': Modelo2 ,\r\n",
        "    'Año': Año2 ,\r\n",
        "},\r\n",
        "{\r\n",
        "    'Placas': Placa3 ,\r\n",
        "    'Modelo': Modelo3 ,\r\n",
        "    'Año': Año3 ,\r\n",
        "},\r\n",
        "]\r\n",
        "#print(Existencia_coches[0]['Año'])\r\n",
        "C1=input('Color de coche 1: ')\r\n",
        "C2=input('Color de coche 2: ')\r\n",
        "C3=input('Color de coche 3: ')\r\n",
        "Existencia_coches[0].update({'Color': C1})\r\n",
        "Existencia_coches"
      ],
      "execution_count": null,
      "outputs": [
        {
          "output_type": "stream",
          "text": [
            "Placa 1: UIUY88\n",
            "Modelo 1: TOYOTA \n",
            "Año 1: 2020\n",
            "\n",
            "Placa 2: YIHB71\n",
            "Modelo 2: NISSAN\n",
            "Año 2: 2021\n",
            "\n",
            "Placa 3: JNKJ00\n",
            "Modelo 3: BMW\n",
            "Año 3: 2019\n",
            "\n",
            "Color de coche 1: BLANCO\n",
            "Color de coche 2: NEGRO\n",
            "Color de coche 3: ROJO\n"
          ],
          "name": "stdout"
        },
        {
          "output_type": "execute_result",
          "data": {
            "text/plain": [
              "[{'Año': '2020', 'Color': 'BLANCO', 'Modelo': 'TOYOTA ', 'Placas': 'UIUY88'},\n",
              " {'Año': '2021', 'Modelo': 'NISSAN', 'Placas': 'YIHB71'},\n",
              " {'Año': '2019', 'Modelo': 'BMW', 'Placas': 'JNKJ00'}]"
            ]
          },
          "metadata": {
            "tags": []
          },
          "execution_count": 38
        }
      ]
    },
    {
      "cell_type": "code",
      "metadata": {
        "id": "EIAMs6CvnM6l"
      },
      "source": [
        ""
      ],
      "execution_count": null,
      "outputs": []
    }
  ]
}