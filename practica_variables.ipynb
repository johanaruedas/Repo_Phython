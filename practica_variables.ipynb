{
  "nbformat": 4,
  "nbformat_minor": 0,
  "metadata": {
    "colab": {
      "name": "Untitled0.ipynb",
      "provenance": [],
      "authorship_tag": "ABX9TyMC3lntaTgVruBv/I3Y4NmQ",
      "include_colab_link": true
    },
    "kernelspec": {
      "name": "python3",
      "display_name": "Python 3"
    }
  },
  "cells": [
    {
      "cell_type": "markdown",
      "metadata": {
        "id": "view-in-github",
        "colab_type": "text"
      },
      "source": [
        "<a href=\"https://colab.research.google.com/github/johanaruedas/Repo_Phython/blob/main/practica_variables.ipynb\" target=\"_parent\"><img src=\"https://colab.research.google.com/assets/colab-badge.svg\" alt=\"Open In Colab\"/></a>"
      ]
    },
    {
      "cell_type": "code",
      "metadata": {
        "colab": {
          "base_uri": "https://localhost:8080/"
        },
        "id": "_C2ejEt2A952",
        "outputId": "3ca4b097-2050-4ee7-c51a-a7776e72e12c"
      },
      "source": [
        "#Creando una variable string\r\n",
        "Mensaje=\"hola\"\r\n",
        "#Imprimiendo la variable \r\n",
        "print(Mensaje)\r\n",
        "\r\n",
        "print(\"¿Como estas? /n /tEstoy bien\", Mensaje)\r\n",
        "# /n es un salto de linea \r\n",
        "# /t es un tabulador \r\n"
      ],
      "execution_count": 12,
      "outputs": [
        {
          "output_type": "stream",
          "text": [
            "hola\n",
            "¿Como estas? /n /tEstoy bien hola\n"
          ],
          "name": "stdout"
        }
      ]
    },
    {
      "cell_type": "code",
      "metadata": {
        "id": "HGyRoOTOW0CD",
        "outputId": "09480a77-14d3-4881-d14b-ac6ae2763f6d",
        "colab": {
          "base_uri": "https://localhost:8080/"
        }
      },
      "source": [
        "n1= \"estoy \"\r\n",
        "n2= \"dando\"\r\n",
        "n3= \" una\"\r\n",
        "n4= \" clase\"\r\n",
        "ntotal= n1+n2+n3+n4\r\n",
        "print(ntotal)\r\n",
        "print(n1+n2+n3+n4+ \" de Python\")\r\n"
      ],
      "execution_count": 26,
      "outputs": [
        {
          "output_type": "stream",
          "text": [
            "estoy dando una clase\n",
            "estoy dando una clase de Python\n"
          ],
          "name": "stdout"
        }
      ]
    },
    {
      "cell_type": "code",
      "metadata": {
        "id": "rFn0tzuubqgN",
        "outputId": "bd533df2-7fc3-42cf-d060-48a2290bcad1",
        "colab": {
          "base_uri": "https://localhost:8080/"
        }
      },
      "source": [
        "\r\n",
        "Nombre=input(\"¿Cual es tu nombre? \")\r\n",
        "#Solicitando un string al usuario mediante un mensaje \r\n",
        "Apellido=input(\"¿Cual es tu apellido?\")\r\n",
        "print(\"Mi nombre es\",Nombre+Apellido)\r\n",
        "Edad=input(\"¿Que edad tienes? \")\r\n",
        "Origen=input(\"¿De donde eres? \")\r\n",
        "Estado_civil=input(\"¿Cual es tu estado civil? \")\r\n",
        "print(\"Hola, mi nombre es \" + Nombre,Apellido,Edad,Origen)"
      ],
      "execution_count": 44,
      "outputs": [
        {
          "output_type": "stream",
          "text": [
            "¿Cual es tu nombre? Johana \n",
            "¿Cual es tu apellido?Ruedas\n",
            "Mi nombre es Johana  Ruedas\n",
            "¿Que edad tienes? 20 años\n",
            "¿De donde eres? San Diego\n",
            "¿Cual es tu estado civil? Soltera\n",
            "Hola, mi nombre es Johana  Ruedas 20 años San Diego\n"
          ],
          "name": "stdout"
        }
      ]
    },
    {
      "cell_type": "code",
      "metadata": {
        "id": "n0ssQIQ2miem",
        "outputId": "0f71f26b-35ae-404f-bcf0-1c20d9aeb1ef",
        "colab": {
          "base_uri": "https://localhost:8080/"
        }
      },
      "source": [
        "numero= 2\r\n",
        "boolean= True\r\n",
        "decimal = 9.22\r\n",
        "\r\n",
        "print(decimal)\r\n",
        "print(type(decimal))"
      ],
      "execution_count": 45,
      "outputs": [
        {
          "output_type": "stream",
          "text": [
            "9.22\n",
            "<class 'float'>\n"
          ],
          "name": "stdout"
        }
      ]
    },
    {
      "cell_type": "code",
      "metadata": {
        "id": "mpQeuky5U36h",
        "outputId": "fb78038d-dbcc-471b-b5a1-96b3101fd384",
        "colab": {
          "base_uri": "https://localhost:8080/"
        }
      },
      "source": [
        "a= \"20\"\r\n",
        "b= 4.5\r\n",
        "c= 15\r\n",
        "\r\n",
        "#Convertir variable tipo string a tipo flotante\r\n",
        "#a=float(a)\r\n",
        "#print(type(a))\r\n",
        "#b= a*2\r\n",
        "#print(b)\r\n",
        "\r\n",
        "#Convertir variable tipo entero a tipo string\r\n",
        "c=str(c)\r\n",
        "print(type(c))\r\n",
        "t= \"Numero: \" +c\r\n",
        "print(t)\r\n",
        "\r\n",
        "\r\n",
        "#Edad = float(input(\"Mi edad es: \"))\r\n",
        "#print(type(Edad))\r\n",
        "#Edad_nueva= Edad * 25 / 15\r\n",
        "#print(Edad_nueva)\r\n"
      ],
      "execution_count": 18,
      "outputs": [
        {
          "output_type": "stream",
          "text": [
            "<class 'str'>\n",
            "Numero: 15\n"
          ],
          "name": "stdout"
        }
      ]
    },
    {
      "cell_type": "code",
      "metadata": {
        "id": "av0clDCZU228"
      },
      "source": [
        ""
      ],
      "execution_count": 17,
      "outputs": []
    }
  ]
}