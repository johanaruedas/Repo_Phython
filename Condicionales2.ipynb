{
  "nbformat": 4,
  "nbformat_minor": 0,
  "metadata": {
    "colab": {
      "name": "Untitled2.ipynb",
      "provenance": [],
      "collapsed_sections": [],
      "authorship_tag": "ABX9TyPZ9jK0OM0Krg8y80ONZdD5",
      "include_colab_link": true
    },
    "kernelspec": {
      "name": "python3",
      "display_name": "Python 3"
    }
  },
  "cells": [
    {
      "cell_type": "markdown",
      "metadata": {
        "id": "view-in-github",
        "colab_type": "text"
      },
      "source": [
        "<a href=\"https://colab.research.google.com/github/johanaruedas/Repo_Phython/blob/main/Condicionales2.ipynb\" target=\"_parent\"><img src=\"https://colab.research.google.com/assets/colab-badge.svg\" alt=\"Open In Colab\"/></a>"
      ]
    },
    {
      "cell_type": "code",
      "metadata": {
        "colab": {
          "base_uri": "https://localhost:8080/"
        },
        "id": "aw1rmJQQdmfp",
        "outputId": "de79609c-7c4a-4c21-a98c-a23b371001ad"
      },
      "source": [
        "print(\"Bienvenido a UPIIG\")\r\n",
        "print(\"Inserte tu edad\")\r\n",
        "edad=16\r\n",
        "\r\n",
        "print(\"Tu edad es \" + str(edad))\r\n",
        "if edad < 18 :\r\n",
        "  print(\"Requieres compañia de tus padres\")\r\n",
        "else:\r\n",
        "  print(\"Bienvenido al registro de UPIIG\")"
      ],
      "execution_count": 27,
      "outputs": [
        {
          "output_type": "stream",
          "text": [
            "Bienvenido a UPIIG\n",
            "Inserte tu numero de boleta de 5 digitos\n",
            "Tu edad es 16\n",
            "Requieres compañia de tus padres\n"
          ],
          "name": "stdout"
        }
      ]
    },
    {
      "cell_type": "code",
      "metadata": {
        "id": "S0IXx3RNrF9M"
      },
      "source": [
        ""
      ],
      "execution_count": null,
      "outputs": []
    },
    {
      "cell_type": "code",
      "metadata": {
        "colab": {
          "base_uri": "https://localhost:8080/"
        },
        "id": "Uknn0iYclHaE",
        "outputId": "8e4c3ff4-734a-4bda-b0c6-2a85898469cf"
      },
      "source": [
        "\r\n",
        "calificacion=input(\"Ingresa tu calificacion \")\r\n",
        "calificacion=float(calificacion)\r\n",
        "\r\n",
        "if calificacion >=7:\r\n",
        "  print(\"Felicidades, has pasado la matieria\")\r\n",
        "elif calificacion == 10:\r\n",
        "  print(\"Felicidades, tienes calificacion perfecta\")\r\n",
        "elif calificacion < 7:\r\n",
        "  print(\"Suerte para la proxima\")"
      ],
      "execution_count": 41,
      "outputs": [
        {
          "output_type": "stream",
          "text": [
            "Ingresa tu calificacion 8\n",
            "Felicidades, has pasado la matieria\n"
          ],
          "name": "stdout"
        }
      ]
    },
    {
      "cell_type": "code",
      "metadata": {
        "id": "G_RdQrTjpGYV"
      },
      "source": [
        ""
      ],
      "execution_count": null,
      "outputs": []
    },
    {
      "cell_type": "markdown",
      "metadata": {
        "id": "S5J2sTU4eeyj"
      },
      "source": [
        "#Condicionales\r\n"
      ]
    }
  ]
}