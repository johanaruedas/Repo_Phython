{
  "nbformat": 4,
  "nbformat_minor": 0,
  "metadata": {
    "colab": {
      "name": "Untitled3.ipynb",
      "provenance": [],
      "authorship_tag": "ABX9TyNKjGCDT22LzDr2JAajLbiK",
      "include_colab_link": true
    },
    "kernelspec": {
      "name": "python3",
      "display_name": "Python 3"
    }
  },
  "cells": [
    {
      "cell_type": "markdown",
      "metadata": {
        "id": "view-in-github",
        "colab_type": "text"
      },
      "source": [
        "<a href=\"https://colab.research.google.com/github/johanaruedas/Repo_Phython/blob/main/Ciclos3.ipynb\" target=\"_parent\"><img src=\"https://colab.research.google.com/assets/colab-badge.svg\" alt=\"Open In Colab\"/></a>"
      ]
    },
    {
      "cell_type": "code",
      "metadata": {
        "colab": {
          "base_uri": "https://localhost:8080/"
        },
        "id": "5pFjjysidU3V",
        "outputId": "714e2add-ce76-4b42-de6b-225463c491d0"
      },
      "source": [
        "#Solicitar un numero par al usuario\r\n",
        "\r\n",
        "Numero= input(\"Inserte un numero par \")\r\n",
        "Numero= float (Numero)\r\n",
        "\r\n",
        "while Numero %2 != 0 :\r\n",
        "  Numero=float (input(\"Hubo un error, insertar un numero par \"))\r\n",
        "\r\n",
        "print(\"El numero par es:\", Numero)\r\n"
      ],
      "execution_count": 6,
      "outputs": [
        {
          "output_type": "stream",
          "text": [
            "Inserte un numero par 1\n",
            "Hubo un error, insertar un numero par 5\n",
            "Hubo un error, insertar un numero par 7\n",
            "Hubo un error, insertar un numero par 13\n",
            "Hubo un error, insertar un numero par 10\n",
            "El numero par es: 10.0\n"
          ],
          "name": "stdout"
        }
      ]
    },
    {
      "cell_type": "code",
      "metadata": {
        "colab": {
          "base_uri": "https://localhost:8080/"
        },
        "id": "pE1UdCHmiB8J",
        "outputId": "26cc6a5a-5925-4109-b690-704e88e9b25e"
      },
      "source": [
        "#Imprimiendo numero del 1 al 5 \r\n",
        "\r\n",
        "i=2 \r\n",
        "while i <=10:\r\n",
        "  print(i)\r\n",
        "  i+=1\r\n"
      ],
      "execution_count": 11,
      "outputs": [
        {
          "output_type": "stream",
          "text": [
            "2\n",
            "3\n",
            "4\n",
            "5\n",
            "6\n",
            "7\n",
            "8\n",
            "9\n",
            "10\n"
          ],
          "name": "stdout"
        }
      ]
    },
    {
      "cell_type": "code",
      "metadata": {
        "id": "9n8fdmbdmE-P"
      },
      "source": [
        ""
      ],
      "execution_count": null,
      "outputs": []
    },
    {
      "cell_type": "markdown",
      "metadata": {
        "id": "y-fiRaf0gQfV"
      },
      "source": [
        "#CICLOS\r\n"
      ]
    }
  ]
}